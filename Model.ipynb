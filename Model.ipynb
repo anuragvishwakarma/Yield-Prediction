{
 "cells": [
  {
   "cell_type": "code",
   "execution_count": 57,
   "id": "d809f63c-eab5-4bfc-83d5-047140fb19f8",
   "metadata": {},
   "outputs": [],
   "source": [
    "import pandas as pd"
   ]
  },
  {
   "cell_type": "code",
   "execution_count": 58,
   "id": "4080e984-5caf-482c-8019-899301c06368",
   "metadata": {},
   "outputs": [],
   "source": [
    "\n",
    "df = pd.read_csv(r\"crop_yield.csv\")"
   ]
  },
  {
   "cell_type": "code",
   "execution_count": 59,
   "id": "6d1e2e7b",
   "metadata": {},
   "outputs": [],
   "source": [
    "df1 = df.copy()"
   ]
  },
  {
   "cell_type": "code",
   "execution_count": 60,
   "id": "5755b54e-fb09-4689-8bf6-f380bc490044",
   "metadata": {},
   "outputs": [],
   "source": [
    "X = df.iloc[:, :-1]\n",
    "y = df.iloc[:, -1]"
   ]
  },
  {
   "cell_type": "code",
   "execution_count": 61,
   "id": "5571f444-0d10-4a49-a998-bc753cb91a72",
   "metadata": {},
   "outputs": [],
   "source": [
    "from sklearn.model_selection import train_test_split\n",
    "X_train, X_test, y_train, y_test = train_test_split(X, y, test_size = 0.2, random_state = 1)"
   ]
  },
  {
   "cell_type": "code",
   "execution_count": null,
   "id": "a98b1801",
   "metadata": {},
   "outputs": [],
   "source": []
  },
  {
   "cell_type": "code",
   "execution_count": 62,
   "id": "411d2f9f",
   "metadata": {},
   "outputs": [],
   "source": [
    "from sklearn.preprocessing import LabelEncoder\n",
    "le = LabelEncoder()\n",
    "\n",
    "X_train['Region'] = le.fit_transform(X_train['Region'])\n",
    "X_train['Soil_Type'] = le.fit_transform(X_train['Soil_Type'])\n",
    "X_train['Crop'] = le.fit_transform(X_train['Crop'])\n",
    "X_train['Fertilizer_Used'] = le.fit_transform(X_train['Fertilizer_Used'])\n",
    "X_train['Irrigation_Used'] = le.fit_transform(X_train['Irrigation_Used'])\n",
    "X_train['Weather_Condition'] = le.fit_transform(X_train['Weather_Condition'])\n",
    "\n",
    "\n",
    "X_test['Region'] = le.fit_transform(X_test['Region'])\n",
    "X_test['Soil_Type'] = le.fit_transform(X_test['Soil_Type'])\n",
    "X_test['Crop'] = le.fit_transform(X_test['Crop'])\n",
    "X_test['Fertilizer_Used'] = le.fit_transform(X_test['Fertilizer_Used'])\n",
    "X_test['Irrigation_Used'] = le.fit_transform(X_test['Irrigation_Used'])\n",
    "X_test['Weather_Condition'] = le.fit_transform(X_test['Weather_Condition'])\n"
   ]
  },
  {
   "cell_type": "code",
   "execution_count": 63,
   "id": "fd4fd00d",
   "metadata": {},
   "outputs": [
    {
     "data": {
      "text/plain": [
       "\"from sklearn.preprocessing import StandardScaler\\nscaler=StandardScaler()\\nX_train[['Rainfall_mm','Temperature_Celsius','Days_to_Harvest']]=scaler.fit_transform(X_train[['Rainfall_mm','Temperature_Celsius','Days_to_Harvest']])\\n\\nX_test[['Rainfall_mm','Temperature_Celsius','Days_to_Harvest']] = scaler.fit_transform(X_test[['Rainfall_mm','Temperature_Celsius','Days_to_Harvest']])\""
      ]
     },
     "execution_count": 63,
     "metadata": {},
     "output_type": "execute_result"
    }
   ],
   "source": [
    "'''from sklearn.preprocessing import StandardScaler\n",
    "scaler=StandardScaler()\n",
    "X_train[['Rainfall_mm','Temperature_Celsius','Days_to_Harvest']]=scaler.fit_transform(X_train[['Rainfall_mm','Temperature_Celsius','Days_to_Harvest']])\n",
    "\n",
    "X_test[['Rainfall_mm','Temperature_Celsius','Days_to_Harvest']] = scaler.fit_transform(X_test[['Rainfall_mm','Temperature_Celsius','Days_to_Harvest']])'''"
   ]
  },
  {
   "cell_type": "code",
   "execution_count": 64,
   "id": "89000a68-9699-47be-a04d-63edb25386bc",
   "metadata": {},
   "outputs": [],
   "source": [
    "from sklearn.linear_model import LinearRegression\n",
    "lr = LinearRegression()\n",
    "lr.fit(X_train, y_train)\n",
    "y_pred = lr.predict(X_test)"
   ]
  },
  {
   "cell_type": "code",
   "execution_count": 65,
   "id": "3acaeca8-0980-4361-84bd-870b26620931",
   "metadata": {},
   "outputs": [],
   "source": [
    "from sklearn.metrics import mean_squared_error, r2_score\n",
    "import numpy as np\n",
    "\n",
    "#print(\"Mean Squared Error : \", mean_squared_error(y_test, y_pred))\n",
    "#print(\"Root Mean Squared Error : \", np.sqrt(mean_squared_error(y_test, y_pred)))\n",
    "#print(\"R2 score : \", r2_score(y_test, y_pred))"
   ]
  },
  {
   "cell_type": "code",
   "execution_count": 66,
   "id": "3f45a6db-3a58-4ef5-973d-214366b079cc",
   "metadata": {},
   "outputs": [],
   "source": [
    "import pickle\n",
    "pickle.dump(lr, open('LR.pkl', 'wb'))\n",
    "pickle.dump(df1, open('df.pkl', 'wb'))\n",
    "pickle.dump(le, open('le.pkl', 'wb'))\n",
    "#pickle.dump(scaler, open('scaler.pkl', 'wb'))"
   ]
  }
 ],
 "metadata": {
  "kernelspec": {
   "display_name": "Python 3",
   "language": "python",
   "name": "python3"
  },
  "language_info": {
   "codemirror_mode": {
    "name": "ipython",
    "version": 3
   },
   "file_extension": ".py",
   "mimetype": "text/x-python",
   "name": "python",
   "nbconvert_exporter": "python",
   "pygments_lexer": "ipython3",
   "version": "3.12.3"
  }
 },
 "nbformat": 4,
 "nbformat_minor": 5
}
